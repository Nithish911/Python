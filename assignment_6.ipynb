{
  "nbformat": 4,
  "nbformat_minor": 0,
  "metadata": {
    "colab": {
      "provenance": [],
      "authorship_tag": "ABX9TyNdtA9HpENHmWp10aKpVyKO",
      "include_colab_link": true
    },
    "kernelspec": {
      "name": "python3",
      "display_name": "Python 3"
    },
    "language_info": {
      "name": "python"
    }
  },
  "cells": [
    {
      "cell_type": "markdown",
      "metadata": {
        "id": "view-in-github",
        "colab_type": "text"
      },
      "source": [
        "<a href=\"https://colab.research.google.com/github/Nithish911/Python/blob/main/assignment_6.ipynb\" target=\"_parent\"><img src=\"https://colab.research.google.com/assets/colab-badge.svg\" alt=\"Open In Colab\"/></a>"
      ]
    },
    {
      "cell_type": "markdown",
      "source": [
        "10.\tMerge patient demographic data with medical test results using Pandas."
      ],
      "metadata": {
        "id": "LJj6m3qgfuRh"
      }
    },
    {
      "cell_type": "code",
      "source": [
        "import numpy as np\n",
        "import pandas as pd"
      ],
      "metadata": {
        "id": "3RYD1mezfuwM"
      },
      "execution_count": 2,
      "outputs": []
    },
    {
      "cell_type": "code",
      "source": [
        "df = pd.read_csv('/content/heart_disease.csv')"
      ],
      "metadata": {
        "id": "o_c-DUSBklj3"
      },
      "execution_count": 5,
      "outputs": []
    },
    {
      "cell_type": "code",
      "source": [
        "#data joining\n",
        "df1 = df[[\"age\",\"sex\",\"chol\"]].head(6)\n",
        "df2 = df[[\"age\",\"trestbps\",\"fbs\"]].head(6)\n",
        "print(df1)\n",
        "print(df2)\n"
      ],
      "metadata": {
        "colab": {
          "base_uri": "https://localhost:8080/",
          "height": 0
        },
        "id": "Z8uww_2mbfki",
        "outputId": "5689dcc1-2eb5-495a-acc9-7c607c390b12"
      },
      "execution_count": 68,
      "outputs": [
        {
          "output_type": "stream",
          "name": "stdout",
          "text": [
            "   age  sex  chol\n",
            "0   63    1   233\n",
            "1   37    1   250\n",
            "2   41    0   204\n",
            "3   56    1   236\n",
            "4   57    0   354\n",
            "5   57    1   192\n",
            "   age  trestbps  fbs\n",
            "0   63       145    1\n",
            "1   37       130    0\n",
            "2   41       130    0\n",
            "3   56       120    0\n",
            "4   57       120    0\n",
            "5   57       140    0\n"
          ]
        }
      ]
    },
    {
      "cell_type": "code",
      "source": [
        "#inner\n",
        "merged_df = pd.merge(df1, df2, on = \"age\",how = \"inner\")\n",
        "print(merged_df)"
      ],
      "metadata": {
        "colab": {
          "base_uri": "https://localhost:8080/",
          "height": 0
        },
        "id": "fNYcl0fCffyD",
        "outputId": "be21180a-a0be-4122-ffc5-9250cac02369"
      },
      "execution_count": 64,
      "outputs": [
        {
          "output_type": "stream",
          "name": "stdout",
          "text": [
            "   age  sex  chol  trestbps  fbs\n",
            "0   63    1   233       145    1\n",
            "1   37    1   250       130    0\n",
            "2   41    0   204       130    0\n",
            "3   56    1   236       120    0\n",
            "4   57    0   354       120    0\n",
            "5   57    0   354       140    0\n",
            "6   57    1   192       120    0\n",
            "7   57    1   192       140    0\n"
          ]
        }
      ]
    },
    {
      "cell_type": "code",
      "source": [
        "#left\n",
        "left_merged_df = pd.merge(df1, df2, on = \"age\", how = \"left\")\n",
        "print(left_merged_df)"
      ],
      "metadata": {
        "colab": {
          "base_uri": "https://localhost:8080/",
          "height": 0
        },
        "id": "9I0yOSJ9mxQ4",
        "outputId": "10658000-1b1e-428d-af4f-affe2a65c3da"
      },
      "execution_count": 65,
      "outputs": [
        {
          "output_type": "stream",
          "name": "stdout",
          "text": [
            "   age  sex  chol  trestbps  fbs\n",
            "0   63    1   233       145    1\n",
            "1   37    1   250       130    0\n",
            "2   41    0   204       130    0\n",
            "3   56    1   236       120    0\n",
            "4   57    0   354       120    0\n",
            "5   57    0   354       140    0\n",
            "6   57    1   192       120    0\n",
            "7   57    1   192       140    0\n"
          ]
        }
      ]
    },
    {
      "cell_type": "code",
      "source": [
        "#right\n",
        "right_merged_df = pd.merge(df1, df2, on = \"age\", how = \"right\")\n",
        "print(right_merged_df)"
      ],
      "metadata": {
        "colab": {
          "base_uri": "https://localhost:8080/",
          "height": 0
        },
        "id": "KUJAuDbBnCze",
        "outputId": "3dc95819-e9e8-4d61-a58e-ffb231c63189"
      },
      "execution_count": 66,
      "outputs": [
        {
          "output_type": "stream",
          "name": "stdout",
          "text": [
            "   age  sex  chol  trestbps  fbs\n",
            "0   63    1   233       145    1\n",
            "1   37    1   250       130    0\n",
            "2   41    0   204       130    0\n",
            "3   56    1   236       120    0\n",
            "4   57    0   354       120    0\n",
            "5   57    1   192       120    0\n",
            "6   57    0   354       140    0\n",
            "7   57    1   192       140    0\n"
          ]
        }
      ]
    },
    {
      "cell_type": "code",
      "source": [
        "#outer\n",
        "outer_merged_df = pd.merge(df1, df2, on = \"age\", how = \"outer\")\n",
        "print(outer_merged_df)"
      ],
      "metadata": {
        "colab": {
          "base_uri": "https://localhost:8080/",
          "height": 0
        },
        "id": "TQH9QSWNqUQW",
        "outputId": "44bb3008-c055-4e20-f336-97698b59ec69"
      },
      "execution_count": 67,
      "outputs": [
        {
          "output_type": "stream",
          "name": "stdout",
          "text": [
            "   age  sex  chol  trestbps  fbs\n",
            "0   63    1   233       145    1\n",
            "1   37    1   250       130    0\n",
            "2   41    0   204       130    0\n",
            "3   56    1   236       120    0\n",
            "4   57    0   354       120    0\n",
            "5   57    0   354       140    0\n",
            "6   57    1   192       120    0\n",
            "7   57    1   192       140    0\n"
          ]
        }
      ]
    },
    {
      "cell_type": "code",
      "source": [
        "# Data Combining\n",
        "df3 = df[[\"age\",\"cp\",\"thal\"]].head(6)\n",
        "print(df3)"
      ],
      "metadata": {
        "colab": {
          "base_uri": "https://localhost:8080/",
          "height": 0
        },
        "id": "Q5yM_MymzlN9",
        "outputId": "e5455a44-419d-4465-b97a-d777379ae096"
      },
      "execution_count": 69,
      "outputs": [
        {
          "output_type": "stream",
          "name": "stdout",
          "text": [
            "   age  cp  thal\n",
            "0   63   3     1\n",
            "1   37   2     2\n",
            "2   41   1     2\n",
            "3   56   1     2\n",
            "4   57   0     2\n",
            "5   57   0     1\n"
          ]
        }
      ]
    },
    {
      "cell_type": "code",
      "source": [
        "#concat vertical\n",
        "concat_df = pd.concat([df1, df3],ignore_index=True)\n",
        "print(concat_df)"
      ],
      "metadata": {
        "colab": {
          "base_uri": "https://localhost:8080/",
          "height": 0
        },
        "id": "uyA0GZev5q7l",
        "outputId": "06da1f40-849f-413b-b6b0-91c1d5310027"
      },
      "execution_count": 35,
      "outputs": [
        {
          "output_type": "stream",
          "name": "stdout",
          "text": [
            "    age  sex   chol   cp  thal\n",
            "0    63  1.0  233.0  NaN   NaN\n",
            "1    37  1.0  250.0  NaN   NaN\n",
            "2    41  0.0  204.0  NaN   NaN\n",
            "3    56  1.0  236.0  NaN   NaN\n",
            "4    57  0.0  354.0  NaN   NaN\n",
            "5    57  1.0  192.0  NaN   NaN\n",
            "6    63  NaN    NaN  3.0   1.0\n",
            "7    37  NaN    NaN  2.0   2.0\n",
            "8    41  NaN    NaN  1.0   2.0\n",
            "9    56  NaN    NaN  1.0   2.0\n",
            "10   57  NaN    NaN  0.0   2.0\n",
            "11   57  NaN    NaN  0.0   1.0\n"
          ]
        }
      ]
    },
    {
      "cell_type": "code",
      "source": [
        "#concat horizontal\n",
        "concat_df = pd.concat([df1, df3],axis=1)\n",
        "print(concat_df)"
      ],
      "metadata": {
        "colab": {
          "base_uri": "https://localhost:8080/",
          "height": 0
        },
        "id": "-JP1bqpc6K9g",
        "outputId": "04455b2a-a6ea-4c97-d387-984de56ea7ed"
      },
      "execution_count": 36,
      "outputs": [
        {
          "output_type": "stream",
          "name": "stdout",
          "text": [
            "   age  sex  chol  age  cp  thal\n",
            "0   63    1   233   63   3     1\n",
            "1   37    1   250   37   2     2\n",
            "2   41    0   204   41   1     2\n",
            "3   56    1   236   56   1     2\n",
            "4   57    0   354   57   0     2\n",
            "5   57    1   192   57   0     1\n"
          ]
        }
      ]
    },
    {
      "cell_type": "code",
      "source": [
        "#Appending Data\n",
        "appended_df = pd.concat([df1, df3])\n",
        "print(appended_df)"
      ],
      "metadata": {
        "colab": {
          "base_uri": "https://localhost:8080/",
          "height": 0
        },
        "id": "jHJ-MXq67HNP",
        "outputId": "80cea5a5-5796-4fd2-ff60-a02ac5351a2e"
      },
      "execution_count": 45,
      "outputs": [
        {
          "output_type": "stream",
          "name": "stdout",
          "text": [
            "   age  sex   chol   cp  thal\n",
            "0   63  1.0  233.0  NaN   NaN\n",
            "1   37  1.0  250.0  NaN   NaN\n",
            "2   41  0.0  204.0  NaN   NaN\n",
            "3   56  1.0  236.0  NaN   NaN\n",
            "4   57  0.0  354.0  NaN   NaN\n",
            "5   57  1.0  192.0  NaN   NaN\n",
            "0   63  NaN    NaN  3.0   1.0\n",
            "1   37  NaN    NaN  2.0   2.0\n",
            "2   41  NaN    NaN  1.0   2.0\n",
            "3   56  NaN    NaN  1.0   2.0\n",
            "4   57  NaN    NaN  0.0   2.0\n",
            "5   57  NaN    NaN  0.0   1.0\n"
          ]
        }
      ]
    },
    {
      "cell_type": "code",
      "source": [
        "#Data Reshaping\n",
        "df4 = df[[\"age\",\"cp\",\"thal\"]].head(6)\n",
        "print(df4)"
      ],
      "metadata": {
        "colab": {
          "base_uri": "https://localhost:8080/",
          "height": 0
        },
        "id": "lKtrNHaC9nSj",
        "outputId": "1f54e050-f7ec-4e6f-ed2d-3eaf5d2fdd03"
      },
      "execution_count": 46,
      "outputs": [
        {
          "output_type": "stream",
          "name": "stdout",
          "text": [
            "   age  cp  thal\n",
            "0   63   3     1\n",
            "1   37   2     2\n",
            "2   41   1     2\n",
            "3   56   1     2\n",
            "4   57   0     2\n",
            "5   57   0     1\n"
          ]
        }
      ]
    },
    {
      "cell_type": "code",
      "source": [
        "# Melt the data\n",
        "melted_df = pd.melt(df4, id_vars=['age'], value_vars=['cp', 'thal'])\n",
        "print(melted_df)"
      ],
      "metadata": {
        "colab": {
          "base_uri": "https://localhost:8080/",
          "height": 0
        },
        "id": "BMISNz3I9zxm",
        "outputId": "4bea1cc2-a4d9-4c4c-9550-e5170c3e1972"
      },
      "execution_count": 47,
      "outputs": [
        {
          "output_type": "stream",
          "name": "stdout",
          "text": [
            "    age variable  value\n",
            "0    63       cp      3\n",
            "1    37       cp      2\n",
            "2    41       cp      1\n",
            "3    56       cp      1\n",
            "4    57       cp      0\n",
            "5    57       cp      0\n",
            "6    63     thal      1\n",
            "7    37     thal      2\n",
            "8    41     thal      2\n",
            "9    56     thal      2\n",
            "10   57     thal      2\n",
            "11   57     thal      1\n"
          ]
        }
      ]
    },
    {
      "cell_type": "code",
      "source": [
        "#Pivoting Data\n",
        "pivoted = df4.pivot(index=['age','cp'],columns=\"thal\",values='thal')\n",
        "print(pivoted)"
      ],
      "metadata": {
        "colab": {
          "base_uri": "https://localhost:8080/",
          "height": 0
        },
        "id": "tGj9qDgR_D4F",
        "outputId": "8a117c89-c281-4afc-eb8f-3df559ee55ab"
      },
      "execution_count": 61,
      "outputs": [
        {
          "output_type": "stream",
          "name": "stdout",
          "text": [
            "thal      1    2\n",
            "age cp          \n",
            "37  2   NaN  2.0\n",
            "41  1   NaN  2.0\n",
            "56  1   NaN  2.0\n",
            "57  0   1.0  2.0\n",
            "63  3   1.0  NaN\n"
          ]
        }
      ]
    },
    {
      "cell_type": "code",
      "source": [
        "#Using Stack and Unstack\n",
        "stack_df = df4.stack()\n",
        "print(stack_df)"
      ],
      "metadata": {
        "colab": {
          "base_uri": "https://localhost:8080/",
          "height": 0
        },
        "id": "Kua1I_lCPTf4",
        "outputId": "e35f03b0-1796-426b-fdbb-b21fca30d0bb"
      },
      "execution_count": 62,
      "outputs": [
        {
          "output_type": "stream",
          "name": "stdout",
          "text": [
            "0  age     63\n",
            "   cp       3\n",
            "   thal     1\n",
            "1  age     37\n",
            "   cp       2\n",
            "   thal     2\n",
            "2  age     41\n",
            "   cp       1\n",
            "   thal     2\n",
            "3  age     56\n",
            "   cp       1\n",
            "   thal     2\n",
            "4  age     57\n",
            "   cp       0\n",
            "   thal     2\n",
            "5  age     57\n",
            "   cp       0\n",
            "   thal     1\n",
            "dtype: int64\n"
          ]
        }
      ]
    },
    {
      "cell_type": "code",
      "source": [
        "unstack_df = df4.unstack()\n",
        "print(unstack_df)"
      ],
      "metadata": {
        "colab": {
          "base_uri": "https://localhost:8080/",
          "height": 0
        },
        "id": "sZLz-X78Pjot",
        "outputId": "0c4cdbf1-396f-46ba-8d76-4808edf23b44"
      },
      "execution_count": 63,
      "outputs": [
        {
          "output_type": "stream",
          "name": "stdout",
          "text": [
            "age   0    63\n",
            "      1    37\n",
            "      2    41\n",
            "      3    56\n",
            "      4    57\n",
            "      5    57\n",
            "cp    0     3\n",
            "      1     2\n",
            "      2     1\n",
            "      3     1\n",
            "      4     0\n",
            "      5     0\n",
            "thal  0     1\n",
            "      1     2\n",
            "      2     2\n",
            "      3     2\n",
            "      4     2\n",
            "      5     1\n",
            "dtype: int64\n"
          ]
        }
      ]
    }
  ]
}